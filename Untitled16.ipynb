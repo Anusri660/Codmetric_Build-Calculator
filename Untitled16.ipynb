{
  "nbformat": 4,
  "nbformat_minor": 0,
  "metadata": {
    "colab": {
      "provenance": []
    },
    "kernelspec": {
      "name": "python3",
      "display_name": "Python 3"
    },
    "language_info": {
      "name": "python"
    }
  },
  "cells": [
    {
      "cell_type": "code",
      "execution_count": 1,
      "metadata": {
        "colab": {
          "base_uri": "https://localhost:8080/"
        },
        "id": "kKA9_jqma8AL",
        "outputId": "18f9ad57-be8e-4544-a949-a7d56b4fdce7"
      },
      "outputs": [
        {
          "output_type": "stream",
          "name": "stdout",
          "text": [
            "Welcome to the Command-Line Calculator!\n",
            "\n",
            "Select operation:\n",
            "1. Add\n",
            "2. Subtract\n",
            "3. Multiply\n",
            "4. Divide\n",
            "5. Exit\n",
            "Enter choice (1-5): 1\n",
            "Enter first number: 12\n",
            "Enter second number: 7\n",
            "The result of 12.0 + 7.0 is 19.0\n",
            "\n",
            "Select operation:\n",
            "1. Add\n",
            "2. Subtract\n",
            "3. Multiply\n",
            "4. Divide\n",
            "5. Exit\n",
            "Enter choice (1-5): 4\n",
            "Enter first number: 10\n",
            "Enter second number: 0\n",
            "Error: Cannot divide by zero.\n",
            "\n",
            "Select operation:\n",
            "1. Add\n",
            "2. Subtract\n",
            "3. Multiply\n",
            "4. Divide\n",
            "5. Exit\n",
            "Enter choice (1-5): 3\n",
            "Enter first number: 4.5\n",
            "Enter second number: 2\n",
            "The result of 4.5 * 2.0 is 9.0\n",
            "\n",
            "Select operation:\n",
            "1. Add\n",
            "2. Subtract\n",
            "3. Multiply\n",
            "4. Divide\n",
            "5. Exit\n",
            "Enter choice (1-5): 5\n",
            "Exiting calculator. Goodbye!\n"
          ]
        }
      ],
      "source": [
        "def add(x, y):\n",
        "    return x + y\n",
        "\n",
        "def subtract(x, y):\n",
        "    return x - y\n",
        "\n",
        "def multiply(x, y):\n",
        "    return x * y\n",
        "\n",
        "def divide(x, y):\n",
        "    if y == 0:\n",
        "        raise ZeroDivisionError(\"Cannot divide by zero.\")\n",
        "    return x / y\n",
        "\n",
        "def calculator():\n",
        "    print(\"Welcome to the Command-Line Calculator!\")\n",
        "\n",
        "    while True:\n",
        "        print(\"\\nSelect operation:\")\n",
        "        print(\"1. Add\")\n",
        "        print(\"2. Subtract\")\n",
        "        print(\"3. Multiply\")\n",
        "        print(\"4. Divide\")\n",
        "        print(\"5. Exit\")\n",
        "\n",
        "        choice = input(\"Enter choice (1-5): \")\n",
        "\n",
        "        if choice == '5':\n",
        "            print(\"Exiting calculator. Goodbye!\")\n",
        "            break\n",
        "\n",
        "        try:\n",
        "            num1 = float(input(\"Enter first number: \"))\n",
        "            num2 = float(input(\"Enter second number: \"))\n",
        "\n",
        "            if choice == '1':\n",
        "                result = add(num1, num2)\n",
        "                print(f\"The result of {num1} + {num2} is {result}\")\n",
        "            elif choice == '2':\n",
        "                result = subtract(num1, num2)\n",
        "                print(f\"The result of {num1} - {num2} is {result}\")\n",
        "            elif choice == '3':\n",
        "                result = multiply(num1, num2)\n",
        "                print(f\"The result of {num1} * {num2} is {result}\")\n",
        "            elif choice == '4':\n",
        "                result = divide(num1, num2)\n",
        "                print(f\"The result of {num1} / {num2} is {result}\")\n",
        "            else:\n",
        "                print(\"Invalid input. Please select a valid operation (1-5).\")\n",
        "        except ValueError:\n",
        "            print(\"Invalid input. Please enter numeric values.\")\n",
        "        except ZeroDivisionError as e:\n",
        "            print(f\"Error: {e}\")\n",
        "\n",
        "if __name__ == \"__main__\":\n",
        "    calculator()\n"
      ]
    }
  ]
}